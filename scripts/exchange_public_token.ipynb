{
 "cells": [
  {
   "cell_type": "code",
   "execution_count": 3,
   "id": "ffb968b6",
   "metadata": {},
   "outputs": [
    {
     "name": "stdout",
     "output_type": "stream",
     "text": [
      "✅ Saved access_token for Petal: access-productio... (keep this secret)\n"
     ]
    }
   ],
   "source": [
    "import os\n",
    "import json\n",
    "from pathlib import Path\n",
    "from dotenv import load_dotenv\n",
    "from plaid import ApiClient, Configuration\n",
    "from plaid.api.plaid_api import PlaidApi\n",
    "from plaid.model.item_public_token_exchange_request import ItemPublicTokenExchangeRequest\n",
    "\n",
    "# ----- SIMPLE: hardcode .env location -----\n",
    "ENV_PATH = Path(\"C:/Users/kosis/Downloads/Automation/spending-dashboard/scripts/.env\")\n",
    "\n",
    "if not ENV_PATH.exists():\n",
    "    raise SystemExit(f\".env NOT FOUND at {ENV_PATH}\")\n",
    "\n",
    "# Load the environment variables\n",
    "load_dotenv(ENV_PATH)\n",
    "\n",
    "PLAID_ENV = os.getenv(\"PLAID_ENV\", \"production\").lower()\n",
    "PLAID_CLIENT_ID = os.getenv(\"PLAID_CLIENT_ID\")\n",
    "PLAID_SECRET = os.getenv(\"PLAID_SECRET\")\n",
    "\n",
    "if not PLAID_CLIENT_ID or not PLAID_SECRET:\n",
    "    raise SystemExit(\"Missing PLAID_CLIENT_ID or PLAID_SECRET in .env\")\n",
    "\n",
    "# Set Plaid environment URL\n",
    "base_urls = {\n",
    "    \"production\": \"https://production.plaid.com\",\n",
    "    \"sandbox\": \"https://sandbox.plaid.com\",\n",
    "    \"development\": \"https://development.plaid.com\",\n",
    "}\n",
    "base_url = base_urls.get(PLAID_ENV, base_urls[\"production\"])\n",
    "\n",
    "config = Configuration(\n",
    "    host=base_url,\n",
    "    api_key={\n",
    "        \"clientId\": PLAID_CLIENT_ID,\n",
    "        \"secret\": PLAID_SECRET,\n",
    "    }\n",
    ")\n",
    "client = PlaidApi(ApiClient(config))\n",
    "\n",
    "# ----- EXCHANGE FUNCTION -----\n",
    "def exchange_public_token(bank_name, public_token):\n",
    "    try:\n",
    "        request = ItemPublicTokenExchangeRequest(public_token=public_token)\n",
    "        response = client.item_public_token_exchange(request)\n",
    "        data = response.to_dict()\n",
    "        access_token = data.get(\"access_token\")\n",
    "        if not access_token:\n",
    "            raise RuntimeError(\"No access_token returned by Plaid\")\n",
    "\n",
    "        # Save or update access_tokens.json\n",
    "        out_path = Path(\"access_tokens.json\")\n",
    "        tokens = json.loads(out_path.read_text()) if out_path.exists() else {}\n",
    "        tokens[bank_name] = access_token\n",
    "        out_path.write_text(json.dumps(tokens, indent=2), encoding=\"utf-8\")\n",
    "\n",
    "        print(f\"✅ Saved access_token for {bank_name}: {access_token[:16]}... (keep this secret)\")\n",
    "    except Exception as e:\n",
    "        print(f\"❌ ERROR exchanging token for {bank_name}\")\n",
    "        print(repr(e))\n",
    "\n",
    "# ----- EDIT THESE -----\n",
    "bank_name = \"Petal\"\n",
    "public_token = \"public-production-734cb149-e8c4-41fb-9e5a-7e7d36b34dcd\"\n",
    "\n",
    "# ----- RUN IT -----\n",
    "exchange_public_token(bank_name, public_token)\n"
   ]
  }
 ],
 "metadata": {
  "kernelspec": {
   "display_name": "Python (AI Tools)",
   "language": "python",
   "name": "ai-tools"
  },
  "language_info": {
   "codemirror_mode": {
    "name": "ipython",
    "version": 3
   },
   "file_extension": ".py",
   "mimetype": "text/x-python",
   "name": "python",
   "nbconvert_exporter": "python",
   "pygments_lexer": "ipython3",
   "version": "3.12.3"
  }
 },
 "nbformat": 4,
 "nbformat_minor": 5
}
