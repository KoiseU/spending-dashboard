{
 "cells": [
  {
   "cell_type": "code",
   "execution_count": 3,
   "id": "e469ef60",
   "metadata": {},
   "outputs": [
    {
     "name": "stdout",
     "output_type": "stream",
     "text": [
      ".env loaded from: C:\\Users\\kosis\\Downloads\\Automation\\spending-dashboard\\scripts\\.env\n",
      "PLAID_ENV = production\n",
      "PLAID_CLIENT_ID = 68bbeba75b00b300221d6689\n",
      "PLAID_SECRET = **************************7df5\n",
      "OK: All required keys present.\n"
     ]
    }
   ],
   "source": [
    "import os\n",
    "from pathlib import Path\n",
    "from dotenv import load_dotenv\n",
    "\n",
    "# Hardcoded .env path\n",
    "ENV_PATH = Path(r\"C:\\Users\\kosis\\Downloads\\Automation\\spending-dashboard\\scripts\\.env\")\n",
    "\n",
    "if not ENV_PATH.exists():\n",
    "    raise SystemExit(f\".env NOT FOUND at: {ENV_PATH}\")\n",
    "\n",
    "# Load .env explicitly\n",
    "load_dotenv(ENV_PATH)\n",
    "\n",
    "required = [\"PLAID_ENV\", \"PLAID_CLIENT_ID\", \"PLAID_SECRET\"]\n",
    "missing = [k for k in required if not os.getenv(k)]\n",
    "\n",
    "print(f\".env loaded from: {ENV_PATH}\")\n",
    "for k in required:\n",
    "    v = os.getenv(k, \"\")\n",
    "    if k == \"PLAID_SECRET\":\n",
    "        v = (\"*\" * (len(v)-4) + v[-4:]) if v else \"\"\n",
    "    print(f\"{k} = {v or '[MISSING]'}\")\n",
    "\n",
    "if missing:\n",
    "    raise SystemExit(f\"Missing required keys: {', '.join(missing)}\")\n",
    "else:\n",
    "    print(\"OK: All required keys present.\")\n"
   ]
  }
 ],
 "metadata": {
  "kernelspec": {
   "display_name": "Python (AI Tools)",
   "language": "python",
   "name": "ai-tools"
  },
  "language_info": {
   "codemirror_mode": {
    "name": "ipython",
    "version": 3
   },
   "file_extension": ".py",
   "mimetype": "text/x-python",
   "name": "python",
   "nbconvert_exporter": "python",
   "pygments_lexer": "ipython3",
   "version": "3.12.3"
  }
 },
 "nbformat": 4,
 "nbformat_minor": 5
}
