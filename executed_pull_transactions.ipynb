{
 "cells": [
  {
   "cell_type": "code",
   "execution_count": 1,
   "id": "fba92bf7",
   "metadata": {
    "execution": {
     "iopub.execute_input": "2025-09-08T11:08:47.845269Z",
     "iopub.status.busy": "2025-09-08T11:08:47.845027Z",
     "iopub.status.idle": "2025-09-08T11:08:47.855004Z",
     "shell.execute_reply": "2025-09-08T11:08:47.854345Z"
    },
    "papermill": {
     "duration": 0.013657,
     "end_time": "2025-09-08T11:08:47.856206",
     "exception": false,
     "start_time": "2025-09-08T11:08:47.842549",
     "status": "completed"
    },
    "tags": []
   },
   "outputs": [
    {
     "name": "stdout",
     "output_type": "stream",
     "text": [
      "Env OK. Banks: ['Discover', 'SSSCU', 'Petal']\n"
     ]
    }
   ],
   "source": [
    "import os, json, csv, datetime, time\n",
    "from pathlib import Path\n",
    "\n",
    "# In GitHub Actions these come from Secrets; locally you can still keep a .env if you want\n",
    "PLAID_ENV = os.getenv(\"PLAID_ENV\", \"production\").lower()\n",
    "PLAID_CLIENT_ID = os.getenv(\"PLAID_CLIENT_ID\")\n",
    "PLAID_SECRET = os.getenv(\"PLAID_SECRET\")\n",
    "ACCESS_TOKENS_RAW = os.getenv(\"PLAID_ACCESS_TOKENS\")  # JSON string mapping bank->access_token\n",
    "\n",
    "if PLAID_ENV not in (\"production\", \"sandbox\"):\n",
    "    raise SystemExit(f\"PLAID_ENV must be 'production' or 'sandbox' (got '{PLAID_ENV}')\")\n",
    "\n",
    "if not (PLAID_CLIENT_ID and PLAID_SECRET and ACCESS_TOKENS_RAW):\n",
    "    raise SystemExit(\"Missing PLAID_CLIENT_ID / PLAID_SECRET / PLAID_ACCESS_TOKENS env vars\")\n",
    "\n",
    "try:\n",
    "    ACCESS_TOKENS = json.loads(ACCESS_TOKENS_RAW)\n",
    "    assert isinstance(ACCESS_TOKENS, dict) and ACCESS_TOKENS\n",
    "except Exception as e:\n",
    "    raise SystemExit(f\"PLAID_ACCESS_TOKENS must be JSON object, e.g. {{\\\"Bank1\\\":\\\"access-...\\\"}}. Error: {e}\")\n",
    "\n",
    "# Folders/state\n",
    "ROOT = Path(\".\")\n",
    "RAW_DIR = ROOT / \"data\" / \"raw\"\n",
    "STATE_DIR = ROOT / \".state\"\n",
    "RAW_DIR.mkdir(parents=True, exist_ok=True)\n",
    "STATE_DIR.mkdir(parents=True, exist_ok=True)\n",
    "\n",
    "CURSOR_PATH = STATE_DIR / \"plaid_cursors.json\"\n",
    "cursors = json.loads(CURSOR_PATH.read_text()) if CURSOR_PATH.exists() else {}\n",
    "\n",
    "today = datetime.date.today().isoformat()\n",
    "print(\"Env OK. Banks:\", list(ACCESS_TOKENS.keys()))"
   ]
  },
  {
   "cell_type": "code",
   "execution_count": 2,
   "id": "71fee32e",
   "metadata": {
    "execution": {
     "iopub.execute_input": "2025-09-08T11:08:47.859584Z",
     "iopub.status.busy": "2025-09-08T11:08:47.859379Z",
     "iopub.status.idle": "2025-09-08T11:08:48.054897Z",
     "shell.execute_reply": "2025-09-08T11:08:48.054178Z"
    },
    "papermill": {
     "duration": 0.1984,
     "end_time": "2025-09-08T11:08:48.056029",
     "exception": false,
     "start_time": "2025-09-08T11:08:47.857629",
     "status": "completed"
    },
    "tags": []
   },
   "outputs": [
    {
     "name": "stdout",
     "output_type": "stream",
     "text": [
      "Plaid client ready: https://production.plaid.com\n"
     ]
    }
   ],
   "source": [
    "from plaid import ApiClient, Configuration\n",
    "from plaid.api.plaid_api import PlaidApi\n",
    "from plaid.model.transactions_sync_request import TransactionsSyncRequest\n",
    "from plaid.model.transactions_get_request import TransactionsGetRequest\n",
    "from plaid.model.transactions_get_request_options import TransactionsGetRequestOptions\n",
    "\n",
    "BASE_URL = \"https://production.plaid.com\" if PLAID_ENV == \"production\" else \"https://sandbox.plaid.com\"\n",
    "config = Configuration(host=BASE_URL, api_key={\"clientId\": PLAID_CLIENT_ID, \"secret\": PLAID_SECRET})\n",
    "client = PlaidApi(ApiClient(config))\n",
    "print(\"Plaid client ready:\", BASE_URL)\n"
   ]
  },
  {
   "cell_type": "code",
   "execution_count": 3,
   "id": "e86080df",
   "metadata": {
    "execution": {
     "iopub.execute_input": "2025-09-08T11:08:48.059494Z",
     "iopub.status.busy": "2025-09-08T11:08:48.059309Z",
     "iopub.status.idle": "2025-09-08T11:08:48.066952Z",
     "shell.execute_reply": "2025-09-08T11:08:48.066274Z"
    },
    "papermill": {
     "duration": 0.010509,
     "end_time": "2025-09-08T11:08:48.067948",
     "exception": false,
     "start_time": "2025-09-08T11:08:48.057439",
     "status": "completed"
    },
    "tags": []
   },
   "outputs": [],
   "source": [
    "def write_csv(bank: str, rows: list):\n",
    "    if not rows:\n",
    "        return None\n",
    "    cols = [\n",
    "        \"account_id\",\"transaction_id\",\"authorized_date\",\"date\",\"name\",\"merchant_name\",\n",
    "        \"amount\",\"iso_currency_code\",\"pending\",\"payment_channel\",\"category\",\"category_id\"\n",
    "    ]\n",
    "    out_path = RAW_DIR / f\"{today}_{bank}.csv\"\n",
    "    with out_path.open(\"w\", newline=\"\", encoding=\"utf-8\") as f:\n",
    "        w = csv.DictWriter(f, fieldnames=cols)\n",
    "        w.writeheader()\n",
    "        for t in rows:\n",
    "            w.writerow({\n",
    "                \"account_id\": t.get(\"account_id\"),\n",
    "                \"transaction_id\": t.get(\"transaction_id\"),\n",
    "                \"authorized_date\": t.get(\"authorized_date\"),\n",
    "                \"date\": t.get(\"date\"),\n",
    "                \"name\": t.get(\"name\"),\n",
    "                \"merchant_name\": t.get(\"merchant_name\"),\n",
    "                \"amount\": t.get(\"amount\"),\n",
    "                \"iso_currency_code\": t.get(\"iso_currency_code\"),\n",
    "                \"pending\": t.get(\"pending\"),\n",
    "                \"payment_channel\": t.get(\"payment_channel\"),\n",
    "                \"category\": \"|\".join(t.get(\"category\") or []),\n",
    "                \"category_id\": t.get(\"category_id\"),\n",
    "            })\n",
    "    return out_path\n",
    "\n",
    "def fetch_sync(access_token: str, cursor: str | None):\n",
    "    \"\"\"Use transactions/sync to get new/modified transactions since last cursor.\n",
    "       On first run, OMIT the cursor field entirely.\"\"\"\n",
    "    from plaid.model.transactions_sync_request import TransactionsSyncRequest\n",
    "\n",
    "    added, modified, removed = [], [], []\n",
    "    next_cursor = cursor\n",
    "    has_more = True\n",
    "\n",
    "    while has_more:\n",
    "        # Build request kwargs without cursor when it's None\n",
    "        kwargs = {\"access_token\": access_token}\n",
    "        if next_cursor is not None:\n",
    "            kwargs[\"cursor\"] = next_cursor\n",
    "\n",
    "        req = TransactionsSyncRequest(**kwargs)\n",
    "        res = client.transactions_sync(req).to_dict()\n",
    "\n",
    "        added.extend(res.get(\"added\", []))\n",
    "        modified.extend(res.get(\"modified\", []))\n",
    "        removed.extend(res.get(\"removed\", []))\n",
    "\n",
    "        has_more = bool(res.get(\"has_more\"))\n",
    "        next_cursor = res.get(\"next_cursor\")\n",
    "        time.sleep(0.2)\n",
    "\n",
    "    return added, modified, removed, next_cursor"
   ]
  },
  {
   "cell_type": "code",
   "execution_count": 4,
   "id": "21b0d587",
   "metadata": {
    "execution": {
     "iopub.execute_input": "2025-09-08T11:08:48.071071Z",
     "iopub.status.busy": "2025-09-08T11:08:48.070893Z",
     "iopub.status.idle": "2025-09-08T11:08:50.318626Z",
     "shell.execute_reply": "2025-09-08T11:08:50.317927Z"
    },
    "papermill": {
     "duration": 2.250489,
     "end_time": "2025-09-08T11:08:50.319649",
     "exception": false,
     "start_time": "2025-09-08T11:08:48.069160",
     "status": "completed"
    },
    "tags": []
   },
   "outputs": [
    {
     "name": "stdout",
     "output_type": "stream",
     "text": [
      "\n",
      "=== Discover ===\n",
      "Using existing cursor…\n"
     ]
    },
    {
     "name": "stdout",
     "output_type": "stream",
     "text": [
      "Added: 0, Modified: 0, Removed: 0\n",
      "No new/modified transactions to write.\n",
      "\n",
      "=== SSSCU ===\n",
      "Using existing cursor…\n"
     ]
    },
    {
     "name": "stdout",
     "output_type": "stream",
     "text": [
      "Added: 0, Modified: 0, Removed: 0\n",
      "No new/modified transactions to write.\n",
      "\n",
      "=== Petal ===\n",
      "Using existing cursor…\n"
     ]
    },
    {
     "name": "stdout",
     "output_type": "stream",
     "text": [
      "Added: 0, Modified: 0, Removed: 0\n",
      "No new/modified transactions to write.\n",
      "\n",
      "Saved cursors -> .state/plaid_cursors.json\n",
      "Done. Changes: False\n"
     ]
    }
   ],
   "source": [
    "any_changes = False\n",
    "\n",
    "for bank, token in ACCESS_TOKENS.items():\n",
    "    print(f\"\\n=== {bank} ===\")\n",
    "    cursor = cursors.get(bank)\n",
    "    if cursor:\n",
    "        print(\"Using existing cursor…\")\n",
    "        added, modified, removed, next_cursor = fetch_sync(token, cursor)\n",
    "    else:\n",
    "        print(\"No cursor yet. Doing initial sync (last ~30 days via /sync).\")\n",
    "        added, modified, removed, next_cursor = fetch_sync(token, None)\n",
    "\n",
    "    print(f\"Added: {len(added)}, Modified: {len(modified)}, Removed: {len(removed)}\")\n",
    "    out_path = write_csv(bank, added + modified)\n",
    "    if out_path:\n",
    "        print(f\"Wrote: {out_path}\")\n",
    "        any_changes = True\n",
    "    else:\n",
    "        print(\"No new/modified transactions to write.\")\n",
    "\n",
    "    if next_cursor and next_cursor != cursor:\n",
    "        cursors[bank] = next_cursor\n",
    "\n",
    "# save cursors\n",
    "CURSOR_PATH.write_text(json.dumps(cursors, indent=2), encoding=\"utf-8\")\n",
    "print(f\"\\nSaved cursors -> {CURSOR_PATH}\")\n",
    "print(\"Done. Changes:\", any_changes)"
   ]
  }
 ],
 "metadata": {
  "kernelspec": {
   "display_name": "Python (AI Tools)",
   "language": "python",
   "name": "ai-tools"
  },
  "language_info": {
   "codemirror_mode": {
    "name": "ipython",
    "version": 3
   },
   "file_extension": ".py",
   "mimetype": "text/x-python",
   "name": "python",
   "nbconvert_exporter": "python",
   "pygments_lexer": "ipython3",
   "version": "3.11.13"
  },
  "papermill": {
   "default_parameters": {},
   "duration": 3.896794,
   "end_time": "2025-09-08T11:08:50.537341",
   "environment_variables": {},
   "exception": null,
   "input_path": "scripts/pull_transactions.ipynb",
   "output_path": "executed_pull_transactions.ipynb",
   "parameters": {},
   "start_time": "2025-09-08T11:08:46.640547",
   "version": "2.6.0"
  }
 },
 "nbformat": 4,
 "nbformat_minor": 5
}